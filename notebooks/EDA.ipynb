{
 "cells": [
  {
   "cell_type": "code",
   "execution_count": 1,
   "id": "30a55158",
   "metadata": {},
   "outputs": [],
   "source": [
    "import torch"
   ]
  },
  {
   "cell_type": "code",
   "execution_count": 2,
   "id": "dddb83b6",
   "metadata": {},
   "outputs": [],
   "source": [
    "import requests\n",
    "import os\n",
    "import fastf1\n",
    "from fastf1 import plotting\n",
    "from fastf1.ergast import Ergast\n",
    "from datetime import datetime, timedelta\n",
    "device = 'cuda' if torch.cuda.is_available() else 'cpu'"
   ]
  },
  {
   "cell_type": "code",
   "execution_count": 4,
   "id": "e8f639b9",
   "metadata": {},
   "outputs": [
    {
     "name": "stdout",
     "output_type": "stream",
     "text": [
      "\n",
      "--- Processing Season: 2019 ---\n",
      "Successfully fetched schedule for 2019.\n",
      "  Processing Australian Grand Prix (Round 1)...\n",
      "    ✓ Processed Australian Grand Prix\n",
      "  Processing Bahrain Grand Prix (Round 2)...\n",
      "    ✓ Processed Bahrain Grand Prix\n",
      "  Processing Chinese Grand Prix (Round 3)...\n",
      "    ✓ Processed Chinese Grand Prix\n",
      "  Processing Azerbaijan Grand Prix (Round 4)...\n",
      "    ✓ Processed Azerbaijan Grand Prix\n",
      "  Processing Spanish Grand Prix (Round 5)...\n"
     ]
    },
    {
     "ename": "KeyboardInterrupt",
     "evalue": "",
     "output_type": "error",
     "traceback": [
      "\u001b[31m---------------------------------------------------------------------------\u001b[39m",
      "\u001b[31mKeyboardInterrupt\u001b[39m                         Traceback (most recent call last)",
      "\u001b[36mCell\u001b[39m\u001b[36m \u001b[39m\u001b[32mIn[4]\u001b[39m\u001b[32m, line 73\u001b[39m\n\u001b[32m     70\u001b[39m         \u001b[38;5;28mprint\u001b[39m(\u001b[33m\"\u001b[39m\u001b[38;5;130;01m\\n\u001b[39;00m\u001b[33m❌ No data was extracted. Please check the error messages.\u001b[39m\u001b[33m\"\u001b[39m)\n\u001b[32m     72\u001b[39m \u001b[38;5;66;03m# Extract data for years after 2021 (2022-2025)\u001b[39;00m\n\u001b[32m---> \u001b[39m\u001b[32m73\u001b[39m \u001b[43mextract_results_to_csv\u001b[49m\u001b[43m(\u001b[49m\u001b[32;43m2019\u001b[39;49m\u001b[43m,\u001b[49m\u001b[43m \u001b[49m\u001b[32;43m2025\u001b[39;49m\u001b[43m)\u001b[49m\n",
      "\u001b[36mCell\u001b[39m\u001b[36m \u001b[39m\u001b[32mIn[4]\u001b[39m\u001b[32m, line 31\u001b[39m, in \u001b[36mextract_results_to_csv\u001b[39m\u001b[34m(start_year, end_year)\u001b[39m\n\u001b[32m     29\u001b[39m \u001b[38;5;66;03m# Fetch results for each race\u001b[39;00m\n\u001b[32m     30\u001b[39m results_url = results_url_template.format(year=year, \u001b[38;5;28mround\u001b[39m=round_num)\n\u001b[32m---> \u001b[39m\u001b[32m31\u001b[39m results_response = \u001b[43mrequests\u001b[49m\u001b[43m.\u001b[49m\u001b[43mget\u001b[49m\u001b[43m(\u001b[49m\u001b[43mresults_url\u001b[49m\u001b[43m)\u001b[49m\n\u001b[32m     32\u001b[39m results_response.raise_for_status()\n\u001b[32m     34\u001b[39m results_data = results_response.json()\n",
      "\u001b[36mFile \u001b[39m\u001b[32mc:\\Python313\\Lib\\site-packages\\requests\\api.py:73\u001b[39m, in \u001b[36mget\u001b[39m\u001b[34m(url, params, **kwargs)\u001b[39m\n\u001b[32m     62\u001b[39m \u001b[38;5;28;01mdef\u001b[39;00m\u001b[38;5;250m \u001b[39m\u001b[34mget\u001b[39m(url, params=\u001b[38;5;28;01mNone\u001b[39;00m, **kwargs):\n\u001b[32m     63\u001b[39m \u001b[38;5;250m    \u001b[39m\u001b[33mr\u001b[39m\u001b[33;03m\"\"\"Sends a GET request.\u001b[39;00m\n\u001b[32m     64\u001b[39m \n\u001b[32m     65\u001b[39m \u001b[33;03m    :param url: URL for the new :class:`Request` object.\u001b[39;00m\n\u001b[32m   (...)\u001b[39m\u001b[32m     70\u001b[39m \u001b[33;03m    :rtype: requests.Response\u001b[39;00m\n\u001b[32m     71\u001b[39m \u001b[33;03m    \"\"\"\u001b[39;00m\n\u001b[32m---> \u001b[39m\u001b[32m73\u001b[39m     \u001b[38;5;28;01mreturn\u001b[39;00m \u001b[43mrequest\u001b[49m\u001b[43m(\u001b[49m\u001b[33;43m\"\u001b[39;49m\u001b[33;43mget\u001b[39;49m\u001b[33;43m\"\u001b[39;49m\u001b[43m,\u001b[49m\u001b[43m \u001b[49m\u001b[43murl\u001b[49m\u001b[43m,\u001b[49m\u001b[43m \u001b[49m\u001b[43mparams\u001b[49m\u001b[43m=\u001b[49m\u001b[43mparams\u001b[49m\u001b[43m,\u001b[49m\u001b[43m \u001b[49m\u001b[43m*\u001b[49m\u001b[43m*\u001b[49m\u001b[43mkwargs\u001b[49m\u001b[43m)\u001b[49m\n",
      "\u001b[36mFile \u001b[39m\u001b[32mc:\\Python313\\Lib\\site-packages\\requests\\api.py:59\u001b[39m, in \u001b[36mrequest\u001b[39m\u001b[34m(method, url, **kwargs)\u001b[39m\n\u001b[32m     55\u001b[39m \u001b[38;5;66;03m# By using the 'with' statement we are sure the session is closed, thus we\u001b[39;00m\n\u001b[32m     56\u001b[39m \u001b[38;5;66;03m# avoid leaving sockets open which can trigger a ResourceWarning in some\u001b[39;00m\n\u001b[32m     57\u001b[39m \u001b[38;5;66;03m# cases, and look like a memory leak in others.\u001b[39;00m\n\u001b[32m     58\u001b[39m \u001b[38;5;28;01mwith\u001b[39;00m sessions.Session() \u001b[38;5;28;01mas\u001b[39;00m session:\n\u001b[32m---> \u001b[39m\u001b[32m59\u001b[39m     \u001b[38;5;28;01mreturn\u001b[39;00m \u001b[43msession\u001b[49m\u001b[43m.\u001b[49m\u001b[43mrequest\u001b[49m\u001b[43m(\u001b[49m\u001b[43mmethod\u001b[49m\u001b[43m=\u001b[49m\u001b[43mmethod\u001b[49m\u001b[43m,\u001b[49m\u001b[43m \u001b[49m\u001b[43murl\u001b[49m\u001b[43m=\u001b[49m\u001b[43murl\u001b[49m\u001b[43m,\u001b[49m\u001b[43m \u001b[49m\u001b[43m*\u001b[49m\u001b[43m*\u001b[49m\u001b[43mkwargs\u001b[49m\u001b[43m)\u001b[49m\n",
      "\u001b[36mFile \u001b[39m\u001b[32mc:\\Python313\\Lib\\site-packages\\requests\\sessions.py:589\u001b[39m, in \u001b[36mSession.request\u001b[39m\u001b[34m(self, method, url, params, data, headers, cookies, files, auth, timeout, allow_redirects, proxies, hooks, stream, verify, cert, json)\u001b[39m\n\u001b[32m    584\u001b[39m send_kwargs = {\n\u001b[32m    585\u001b[39m     \u001b[33m\"\u001b[39m\u001b[33mtimeout\u001b[39m\u001b[33m\"\u001b[39m: timeout,\n\u001b[32m    586\u001b[39m     \u001b[33m\"\u001b[39m\u001b[33mallow_redirects\u001b[39m\u001b[33m\"\u001b[39m: allow_redirects,\n\u001b[32m    587\u001b[39m }\n\u001b[32m    588\u001b[39m send_kwargs.update(settings)\n\u001b[32m--> \u001b[39m\u001b[32m589\u001b[39m resp = \u001b[38;5;28;43mself\u001b[39;49m\u001b[43m.\u001b[49m\u001b[43msend\u001b[49m\u001b[43m(\u001b[49m\u001b[43mprep\u001b[49m\u001b[43m,\u001b[49m\u001b[43m \u001b[49m\u001b[43m*\u001b[49m\u001b[43m*\u001b[49m\u001b[43msend_kwargs\u001b[49m\u001b[43m)\u001b[49m\n\u001b[32m    591\u001b[39m \u001b[38;5;28;01mreturn\u001b[39;00m resp\n",
      "\u001b[36mFile \u001b[39m\u001b[32mc:\\Python313\\Lib\\site-packages\\requests\\sessions.py:724\u001b[39m, in \u001b[36mSession.send\u001b[39m\u001b[34m(self, request, **kwargs)\u001b[39m\n\u001b[32m    721\u001b[39m \u001b[38;5;28;01mif\u001b[39;00m allow_redirects:\n\u001b[32m    722\u001b[39m     \u001b[38;5;66;03m# Redirect resolving generator.\u001b[39;00m\n\u001b[32m    723\u001b[39m     gen = \u001b[38;5;28mself\u001b[39m.resolve_redirects(r, request, **kwargs)\n\u001b[32m--> \u001b[39m\u001b[32m724\u001b[39m     history = \u001b[43m[\u001b[49m\u001b[43mresp\u001b[49m\u001b[43m \u001b[49m\u001b[38;5;28;43;01mfor\u001b[39;49;00m\u001b[43m \u001b[49m\u001b[43mresp\u001b[49m\u001b[43m \u001b[49m\u001b[38;5;129;43;01min\u001b[39;49;00m\u001b[43m \u001b[49m\u001b[43mgen\u001b[49m\u001b[43m]\u001b[49m\n\u001b[32m    725\u001b[39m \u001b[38;5;28;01melse\u001b[39;00m:\n\u001b[32m    726\u001b[39m     history = []\n",
      "\u001b[36mFile \u001b[39m\u001b[32mc:\\Python313\\Lib\\site-packages\\requests\\sessions.py:265\u001b[39m, in \u001b[36mSessionRedirectMixin.resolve_redirects\u001b[39m\u001b[34m(self, resp, req, stream, timeout, verify, cert, proxies, yield_requests, **adapter_kwargs)\u001b[39m\n\u001b[32m    263\u001b[39m     \u001b[38;5;28;01myield\u001b[39;00m req\n\u001b[32m    264\u001b[39m \u001b[38;5;28;01melse\u001b[39;00m:\n\u001b[32m--> \u001b[39m\u001b[32m265\u001b[39m     resp = \u001b[38;5;28;43mself\u001b[39;49m\u001b[43m.\u001b[49m\u001b[43msend\u001b[49m\u001b[43m(\u001b[49m\n\u001b[32m    266\u001b[39m \u001b[43m        \u001b[49m\u001b[43mreq\u001b[49m\u001b[43m,\u001b[49m\n\u001b[32m    267\u001b[39m \u001b[43m        \u001b[49m\u001b[43mstream\u001b[49m\u001b[43m=\u001b[49m\u001b[43mstream\u001b[49m\u001b[43m,\u001b[49m\n\u001b[32m    268\u001b[39m \u001b[43m        \u001b[49m\u001b[43mtimeout\u001b[49m\u001b[43m=\u001b[49m\u001b[43mtimeout\u001b[49m\u001b[43m,\u001b[49m\n\u001b[32m    269\u001b[39m \u001b[43m        \u001b[49m\u001b[43mverify\u001b[49m\u001b[43m=\u001b[49m\u001b[43mverify\u001b[49m\u001b[43m,\u001b[49m\n\u001b[32m    270\u001b[39m \u001b[43m        \u001b[49m\u001b[43mcert\u001b[49m\u001b[43m=\u001b[49m\u001b[43mcert\u001b[49m\u001b[43m,\u001b[49m\n\u001b[32m    271\u001b[39m \u001b[43m        \u001b[49m\u001b[43mproxies\u001b[49m\u001b[43m=\u001b[49m\u001b[43mproxies\u001b[49m\u001b[43m,\u001b[49m\n\u001b[32m    272\u001b[39m \u001b[43m        \u001b[49m\u001b[43mallow_redirects\u001b[49m\u001b[43m=\u001b[49m\u001b[38;5;28;43;01mFalse\u001b[39;49;00m\u001b[43m,\u001b[49m\n\u001b[32m    273\u001b[39m \u001b[43m        \u001b[49m\u001b[43m*\u001b[49m\u001b[43m*\u001b[49m\u001b[43madapter_kwargs\u001b[49m\u001b[43m,\u001b[49m\n\u001b[32m    274\u001b[39m \u001b[43m    \u001b[49m\u001b[43m)\u001b[49m\n\u001b[32m    276\u001b[39m     extract_cookies_to_jar(\u001b[38;5;28mself\u001b[39m.cookies, prepared_request, resp.raw)\n\u001b[32m    278\u001b[39m     \u001b[38;5;66;03m# extract redirect url, if any, for the next loop\u001b[39;00m\n",
      "\u001b[36mFile \u001b[39m\u001b[32mc:\\Python313\\Lib\\site-packages\\requests\\sessions.py:703\u001b[39m, in \u001b[36mSession.send\u001b[39m\u001b[34m(self, request, **kwargs)\u001b[39m\n\u001b[32m    700\u001b[39m start = preferred_clock()\n\u001b[32m    702\u001b[39m \u001b[38;5;66;03m# Send the request\u001b[39;00m\n\u001b[32m--> \u001b[39m\u001b[32m703\u001b[39m r = \u001b[43madapter\u001b[49m\u001b[43m.\u001b[49m\u001b[43msend\u001b[49m\u001b[43m(\u001b[49m\u001b[43mrequest\u001b[49m\u001b[43m,\u001b[49m\u001b[43m \u001b[49m\u001b[43m*\u001b[49m\u001b[43m*\u001b[49m\u001b[43mkwargs\u001b[49m\u001b[43m)\u001b[49m\n\u001b[32m    705\u001b[39m \u001b[38;5;66;03m# Total elapsed time of the request (approximately)\u001b[39;00m\n\u001b[32m    706\u001b[39m elapsed = preferred_clock() - start\n",
      "\u001b[36mFile \u001b[39m\u001b[32mc:\\Python313\\Lib\\site-packages\\requests\\adapters.py:667\u001b[39m, in \u001b[36mHTTPAdapter.send\u001b[39m\u001b[34m(self, request, stream, timeout, verify, cert, proxies)\u001b[39m\n\u001b[32m    664\u001b[39m     timeout = TimeoutSauce(connect=timeout, read=timeout)\n\u001b[32m    666\u001b[39m \u001b[38;5;28;01mtry\u001b[39;00m:\n\u001b[32m--> \u001b[39m\u001b[32m667\u001b[39m     resp = \u001b[43mconn\u001b[49m\u001b[43m.\u001b[49m\u001b[43murlopen\u001b[49m\u001b[43m(\u001b[49m\n\u001b[32m    668\u001b[39m \u001b[43m        \u001b[49m\u001b[43mmethod\u001b[49m\u001b[43m=\u001b[49m\u001b[43mrequest\u001b[49m\u001b[43m.\u001b[49m\u001b[43mmethod\u001b[49m\u001b[43m,\u001b[49m\n\u001b[32m    669\u001b[39m \u001b[43m        \u001b[49m\u001b[43murl\u001b[49m\u001b[43m=\u001b[49m\u001b[43murl\u001b[49m\u001b[43m,\u001b[49m\n\u001b[32m    670\u001b[39m \u001b[43m        \u001b[49m\u001b[43mbody\u001b[49m\u001b[43m=\u001b[49m\u001b[43mrequest\u001b[49m\u001b[43m.\u001b[49m\u001b[43mbody\u001b[49m\u001b[43m,\u001b[49m\n\u001b[32m    671\u001b[39m \u001b[43m        \u001b[49m\u001b[43mheaders\u001b[49m\u001b[43m=\u001b[49m\u001b[43mrequest\u001b[49m\u001b[43m.\u001b[49m\u001b[43mheaders\u001b[49m\u001b[43m,\u001b[49m\n\u001b[32m    672\u001b[39m \u001b[43m        \u001b[49m\u001b[43mredirect\u001b[49m\u001b[43m=\u001b[49m\u001b[38;5;28;43;01mFalse\u001b[39;49;00m\u001b[43m,\u001b[49m\n\u001b[32m    673\u001b[39m \u001b[43m        \u001b[49m\u001b[43massert_same_host\u001b[49m\u001b[43m=\u001b[49m\u001b[38;5;28;43;01mFalse\u001b[39;49;00m\u001b[43m,\u001b[49m\n\u001b[32m    674\u001b[39m \u001b[43m        \u001b[49m\u001b[43mpreload_content\u001b[49m\u001b[43m=\u001b[49m\u001b[38;5;28;43;01mFalse\u001b[39;49;00m\u001b[43m,\u001b[49m\n\u001b[32m    675\u001b[39m \u001b[43m        \u001b[49m\u001b[43mdecode_content\u001b[49m\u001b[43m=\u001b[49m\u001b[38;5;28;43;01mFalse\u001b[39;49;00m\u001b[43m,\u001b[49m\n\u001b[32m    676\u001b[39m \u001b[43m        \u001b[49m\u001b[43mretries\u001b[49m\u001b[43m=\u001b[49m\u001b[38;5;28;43mself\u001b[39;49m\u001b[43m.\u001b[49m\u001b[43mmax_retries\u001b[49m\u001b[43m,\u001b[49m\n\u001b[32m    677\u001b[39m \u001b[43m        \u001b[49m\u001b[43mtimeout\u001b[49m\u001b[43m=\u001b[49m\u001b[43mtimeout\u001b[49m\u001b[43m,\u001b[49m\n\u001b[32m    678\u001b[39m \u001b[43m        \u001b[49m\u001b[43mchunked\u001b[49m\u001b[43m=\u001b[49m\u001b[43mchunked\u001b[49m\u001b[43m,\u001b[49m\n\u001b[32m    679\u001b[39m \u001b[43m    \u001b[49m\u001b[43m)\u001b[49m\n\u001b[32m    681\u001b[39m \u001b[38;5;28;01mexcept\u001b[39;00m (ProtocolError, \u001b[38;5;167;01mOSError\u001b[39;00m) \u001b[38;5;28;01mas\u001b[39;00m err:\n\u001b[32m    682\u001b[39m     \u001b[38;5;28;01mraise\u001b[39;00m \u001b[38;5;167;01mConnectionError\u001b[39;00m(err, request=request)\n",
      "\u001b[36mFile \u001b[39m\u001b[32mc:\\Python313\\Lib\\site-packages\\urllib3\\connectionpool.py:787\u001b[39m, in \u001b[36mHTTPConnectionPool.urlopen\u001b[39m\u001b[34m(self, method, url, body, headers, retries, redirect, assert_same_host, timeout, pool_timeout, release_conn, chunked, body_pos, preload_content, decode_content, **response_kw)\u001b[39m\n\u001b[32m    784\u001b[39m response_conn = conn \u001b[38;5;28;01mif\u001b[39;00m \u001b[38;5;129;01mnot\u001b[39;00m release_conn \u001b[38;5;28;01melse\u001b[39;00m \u001b[38;5;28;01mNone\u001b[39;00m\n\u001b[32m    786\u001b[39m \u001b[38;5;66;03m# Make the request on the HTTPConnection object\u001b[39;00m\n\u001b[32m--> \u001b[39m\u001b[32m787\u001b[39m response = \u001b[38;5;28;43mself\u001b[39;49m\u001b[43m.\u001b[49m\u001b[43m_make_request\u001b[49m\u001b[43m(\u001b[49m\n\u001b[32m    788\u001b[39m \u001b[43m    \u001b[49m\u001b[43mconn\u001b[49m\u001b[43m,\u001b[49m\n\u001b[32m    789\u001b[39m \u001b[43m    \u001b[49m\u001b[43mmethod\u001b[49m\u001b[43m,\u001b[49m\n\u001b[32m    790\u001b[39m \u001b[43m    \u001b[49m\u001b[43murl\u001b[49m\u001b[43m,\u001b[49m\n\u001b[32m    791\u001b[39m \u001b[43m    \u001b[49m\u001b[43mtimeout\u001b[49m\u001b[43m=\u001b[49m\u001b[43mtimeout_obj\u001b[49m\u001b[43m,\u001b[49m\n\u001b[32m    792\u001b[39m \u001b[43m    \u001b[49m\u001b[43mbody\u001b[49m\u001b[43m=\u001b[49m\u001b[43mbody\u001b[49m\u001b[43m,\u001b[49m\n\u001b[32m    793\u001b[39m \u001b[43m    \u001b[49m\u001b[43mheaders\u001b[49m\u001b[43m=\u001b[49m\u001b[43mheaders\u001b[49m\u001b[43m,\u001b[49m\n\u001b[32m    794\u001b[39m \u001b[43m    \u001b[49m\u001b[43mchunked\u001b[49m\u001b[43m=\u001b[49m\u001b[43mchunked\u001b[49m\u001b[43m,\u001b[49m\n\u001b[32m    795\u001b[39m \u001b[43m    \u001b[49m\u001b[43mretries\u001b[49m\u001b[43m=\u001b[49m\u001b[43mretries\u001b[49m\u001b[43m,\u001b[49m\n\u001b[32m    796\u001b[39m \u001b[43m    \u001b[49m\u001b[43mresponse_conn\u001b[49m\u001b[43m=\u001b[49m\u001b[43mresponse_conn\u001b[49m\u001b[43m,\u001b[49m\n\u001b[32m    797\u001b[39m \u001b[43m    \u001b[49m\u001b[43mpreload_content\u001b[49m\u001b[43m=\u001b[49m\u001b[43mpreload_content\u001b[49m\u001b[43m,\u001b[49m\n\u001b[32m    798\u001b[39m \u001b[43m    \u001b[49m\u001b[43mdecode_content\u001b[49m\u001b[43m=\u001b[49m\u001b[43mdecode_content\u001b[49m\u001b[43m,\u001b[49m\n\u001b[32m    799\u001b[39m \u001b[43m    \u001b[49m\u001b[43m*\u001b[49m\u001b[43m*\u001b[49m\u001b[43mresponse_kw\u001b[49m\u001b[43m,\u001b[49m\n\u001b[32m    800\u001b[39m \u001b[43m\u001b[49m\u001b[43m)\u001b[49m\n\u001b[32m    802\u001b[39m \u001b[38;5;66;03m# Everything went great!\u001b[39;00m\n\u001b[32m    803\u001b[39m clean_exit = \u001b[38;5;28;01mTrue\u001b[39;00m\n",
      "\u001b[36mFile \u001b[39m\u001b[32mc:\\Python313\\Lib\\site-packages\\urllib3\\connectionpool.py:534\u001b[39m, in \u001b[36mHTTPConnectionPool._make_request\u001b[39m\u001b[34m(self, conn, method, url, body, headers, retries, timeout, chunked, response_conn, preload_content, decode_content, enforce_content_length)\u001b[39m\n\u001b[32m    532\u001b[39m \u001b[38;5;66;03m# Receive the response from the server\u001b[39;00m\n\u001b[32m    533\u001b[39m \u001b[38;5;28;01mtry\u001b[39;00m:\n\u001b[32m--> \u001b[39m\u001b[32m534\u001b[39m     response = \u001b[43mconn\u001b[49m\u001b[43m.\u001b[49m\u001b[43mgetresponse\u001b[49m\u001b[43m(\u001b[49m\u001b[43m)\u001b[49m\n\u001b[32m    535\u001b[39m \u001b[38;5;28;01mexcept\u001b[39;00m (BaseSSLError, \u001b[38;5;167;01mOSError\u001b[39;00m) \u001b[38;5;28;01mas\u001b[39;00m e:\n\u001b[32m    536\u001b[39m     \u001b[38;5;28mself\u001b[39m._raise_timeout(err=e, url=url, timeout_value=read_timeout)\n",
      "\u001b[36mFile \u001b[39m\u001b[32mc:\\Python313\\Lib\\site-packages\\urllib3\\connection.py:516\u001b[39m, in \u001b[36mHTTPConnection.getresponse\u001b[39m\u001b[34m(self)\u001b[39m\n\u001b[32m    513\u001b[39m _shutdown = \u001b[38;5;28mgetattr\u001b[39m(\u001b[38;5;28mself\u001b[39m.sock, \u001b[33m\"\u001b[39m\u001b[33mshutdown\u001b[39m\u001b[33m\"\u001b[39m, \u001b[38;5;28;01mNone\u001b[39;00m)\n\u001b[32m    515\u001b[39m \u001b[38;5;66;03m# Get the response from http.client.HTTPConnection\u001b[39;00m\n\u001b[32m--> \u001b[39m\u001b[32m516\u001b[39m httplib_response = \u001b[38;5;28;43msuper\u001b[39;49m\u001b[43m(\u001b[49m\u001b[43m)\u001b[49m\u001b[43m.\u001b[49m\u001b[43mgetresponse\u001b[49m\u001b[43m(\u001b[49m\u001b[43m)\u001b[49m\n\u001b[32m    518\u001b[39m \u001b[38;5;28;01mtry\u001b[39;00m:\n\u001b[32m    519\u001b[39m     assert_header_parsing(httplib_response.msg)\n",
      "\u001b[36mFile \u001b[39m\u001b[32mc:\\Python313\\Lib\\http\\client.py:1428\u001b[39m, in \u001b[36mHTTPConnection.getresponse\u001b[39m\u001b[34m(self)\u001b[39m\n\u001b[32m   1426\u001b[39m \u001b[38;5;28;01mtry\u001b[39;00m:\n\u001b[32m   1427\u001b[39m     \u001b[38;5;28;01mtry\u001b[39;00m:\n\u001b[32m-> \u001b[39m\u001b[32m1428\u001b[39m         \u001b[43mresponse\u001b[49m\u001b[43m.\u001b[49m\u001b[43mbegin\u001b[49m\u001b[43m(\u001b[49m\u001b[43m)\u001b[49m\n\u001b[32m   1429\u001b[39m     \u001b[38;5;28;01mexcept\u001b[39;00m \u001b[38;5;167;01mConnectionError\u001b[39;00m:\n\u001b[32m   1430\u001b[39m         \u001b[38;5;28mself\u001b[39m.close()\n",
      "\u001b[36mFile \u001b[39m\u001b[32mc:\\Python313\\Lib\\http\\client.py:331\u001b[39m, in \u001b[36mHTTPResponse.begin\u001b[39m\u001b[34m(self)\u001b[39m\n\u001b[32m    329\u001b[39m \u001b[38;5;66;03m# read until we get a non-100 response\u001b[39;00m\n\u001b[32m    330\u001b[39m \u001b[38;5;28;01mwhile\u001b[39;00m \u001b[38;5;28;01mTrue\u001b[39;00m:\n\u001b[32m--> \u001b[39m\u001b[32m331\u001b[39m     version, status, reason = \u001b[38;5;28;43mself\u001b[39;49m\u001b[43m.\u001b[49m\u001b[43m_read_status\u001b[49m\u001b[43m(\u001b[49m\u001b[43m)\u001b[49m\n\u001b[32m    332\u001b[39m     \u001b[38;5;28;01mif\u001b[39;00m status != CONTINUE:\n\u001b[32m    333\u001b[39m         \u001b[38;5;28;01mbreak\u001b[39;00m\n",
      "\u001b[36mFile \u001b[39m\u001b[32mc:\\Python313\\Lib\\http\\client.py:292\u001b[39m, in \u001b[36mHTTPResponse._read_status\u001b[39m\u001b[34m(self)\u001b[39m\n\u001b[32m    291\u001b[39m \u001b[38;5;28;01mdef\u001b[39;00m\u001b[38;5;250m \u001b[39m\u001b[34m_read_status\u001b[39m(\u001b[38;5;28mself\u001b[39m):\n\u001b[32m--> \u001b[39m\u001b[32m292\u001b[39m     line = \u001b[38;5;28mstr\u001b[39m(\u001b[38;5;28;43mself\u001b[39;49m\u001b[43m.\u001b[49m\u001b[43mfp\u001b[49m\u001b[43m.\u001b[49m\u001b[43mreadline\u001b[49m\u001b[43m(\u001b[49m\u001b[43m_MAXLINE\u001b[49m\u001b[43m \u001b[49m\u001b[43m+\u001b[49m\u001b[43m \u001b[49m\u001b[32;43m1\u001b[39;49m\u001b[43m)\u001b[49m, \u001b[33m\"\u001b[39m\u001b[33miso-8859-1\u001b[39m\u001b[33m\"\u001b[39m)\n\u001b[32m    293\u001b[39m     \u001b[38;5;28;01mif\u001b[39;00m \u001b[38;5;28mlen\u001b[39m(line) > _MAXLINE:\n\u001b[32m    294\u001b[39m         \u001b[38;5;28;01mraise\u001b[39;00m LineTooLong(\u001b[33m\"\u001b[39m\u001b[33mstatus line\u001b[39m\u001b[33m\"\u001b[39m)\n",
      "\u001b[36mFile \u001b[39m\u001b[32mc:\\Python313\\Lib\\socket.py:719\u001b[39m, in \u001b[36mSocketIO.readinto\u001b[39m\u001b[34m(self, b)\u001b[39m\n\u001b[32m    717\u001b[39m     \u001b[38;5;28;01mraise\u001b[39;00m \u001b[38;5;167;01mOSError\u001b[39;00m(\u001b[33m\"\u001b[39m\u001b[33mcannot read from timed out object\u001b[39m\u001b[33m\"\u001b[39m)\n\u001b[32m    718\u001b[39m \u001b[38;5;28;01mtry\u001b[39;00m:\n\u001b[32m--> \u001b[39m\u001b[32m719\u001b[39m     \u001b[38;5;28;01mreturn\u001b[39;00m \u001b[38;5;28;43mself\u001b[39;49m\u001b[43m.\u001b[49m\u001b[43m_sock\u001b[49m\u001b[43m.\u001b[49m\u001b[43mrecv_into\u001b[49m\u001b[43m(\u001b[49m\u001b[43mb\u001b[49m\u001b[43m)\u001b[49m\n\u001b[32m    720\u001b[39m \u001b[38;5;28;01mexcept\u001b[39;00m timeout:\n\u001b[32m    721\u001b[39m     \u001b[38;5;28mself\u001b[39m._timeout_occurred = \u001b[38;5;28;01mTrue\u001b[39;00m\n",
      "\u001b[36mFile \u001b[39m\u001b[32mc:\\Python313\\Lib\\ssl.py:1304\u001b[39m, in \u001b[36mSSLSocket.recv_into\u001b[39m\u001b[34m(self, buffer, nbytes, flags)\u001b[39m\n\u001b[32m   1300\u001b[39m     \u001b[38;5;28;01mif\u001b[39;00m flags != \u001b[32m0\u001b[39m:\n\u001b[32m   1301\u001b[39m         \u001b[38;5;28;01mraise\u001b[39;00m \u001b[38;5;167;01mValueError\u001b[39;00m(\n\u001b[32m   1302\u001b[39m           \u001b[33m\"\u001b[39m\u001b[33mnon-zero flags not allowed in calls to recv_into() on \u001b[39m\u001b[38;5;132;01m%s\u001b[39;00m\u001b[33m\"\u001b[39m %\n\u001b[32m   1303\u001b[39m           \u001b[38;5;28mself\u001b[39m.\u001b[34m__class__\u001b[39m)\n\u001b[32m-> \u001b[39m\u001b[32m1304\u001b[39m     \u001b[38;5;28;01mreturn\u001b[39;00m \u001b[38;5;28;43mself\u001b[39;49m\u001b[43m.\u001b[49m\u001b[43mread\u001b[49m\u001b[43m(\u001b[49m\u001b[43mnbytes\u001b[49m\u001b[43m,\u001b[49m\u001b[43m \u001b[49m\u001b[43mbuffer\u001b[49m\u001b[43m)\u001b[49m\n\u001b[32m   1305\u001b[39m \u001b[38;5;28;01melse\u001b[39;00m:\n\u001b[32m   1306\u001b[39m     \u001b[38;5;28;01mreturn\u001b[39;00m \u001b[38;5;28msuper\u001b[39m().recv_into(buffer, nbytes, flags)\n",
      "\u001b[36mFile \u001b[39m\u001b[32mc:\\Python313\\Lib\\ssl.py:1138\u001b[39m, in \u001b[36mSSLSocket.read\u001b[39m\u001b[34m(self, len, buffer)\u001b[39m\n\u001b[32m   1136\u001b[39m \u001b[38;5;28;01mtry\u001b[39;00m:\n\u001b[32m   1137\u001b[39m     \u001b[38;5;28;01mif\u001b[39;00m buffer \u001b[38;5;129;01mis\u001b[39;00m \u001b[38;5;129;01mnot\u001b[39;00m \u001b[38;5;28;01mNone\u001b[39;00m:\n\u001b[32m-> \u001b[39m\u001b[32m1138\u001b[39m         \u001b[38;5;28;01mreturn\u001b[39;00m \u001b[38;5;28;43mself\u001b[39;49m\u001b[43m.\u001b[49m\u001b[43m_sslobj\u001b[49m\u001b[43m.\u001b[49m\u001b[43mread\u001b[49m\u001b[43m(\u001b[49m\u001b[38;5;28;43mlen\u001b[39;49m\u001b[43m,\u001b[49m\u001b[43m \u001b[49m\u001b[43mbuffer\u001b[49m\u001b[43m)\u001b[49m\n\u001b[32m   1139\u001b[39m     \u001b[38;5;28;01melse\u001b[39;00m:\n\u001b[32m   1140\u001b[39m         \u001b[38;5;28;01mreturn\u001b[39;00m \u001b[38;5;28mself\u001b[39m._sslobj.read(\u001b[38;5;28mlen\u001b[39m)\n",
      "\u001b[31mKeyboardInterrupt\u001b[39m: "
     ]
    }
   ],
   "source": [
    "import requests\n",
    "import pandas as pd\n",
    "import time\n",
    "\n",
    "def extract_results_to_csv(start_year, end_year):\n",
    "    all_results = []\n",
    "    base_url = \"http://api.jolpi.ca/ergast/f1/{year}.json\"\n",
    "    results_url_template = \"http://api.jolpi.ca/ergast/f1/{year}/{round}/results.json\"\n",
    "\n",
    "    for year in range(start_year, end_year + 1):\n",
    "        print(f\"\\n--- Processing Season: {year} ---\")\n",
    "        \n",
    "        try:\n",
    "            # Get the schedule for the year\n",
    "            schedule_url = base_url.format(year=year)\n",
    "            schedule_response = requests.get(schedule_url)\n",
    "            schedule_response.raise_for_status()\n",
    "            schedule = schedule_response.json()['MRData']['RaceTable']['Races']\n",
    "            print(f\"Successfully fetched schedule for {year}.\")\n",
    "\n",
    "            for race in schedule:\n",
    "                round_num = race['round']\n",
    "                race_name = race['raceName']\n",
    "                race_date = race['date']\n",
    "                circuit_name = race['Circuit']['circuitName']\n",
    "                \n",
    "                print(f\"  Processing {race_name} (Round {round_num})...\")\n",
    "                \n",
    "                # Fetch results for each race\n",
    "                results_url = results_url_template.format(year=year, round=round_num)\n",
    "                results_response = requests.get(results_url)\n",
    "                results_response.raise_for_status()\n",
    "\n",
    "                results_data = results_response.json()\n",
    "                if results_data['MRData']['RaceTable']['Races']:\n",
    "                    results = results_data['MRData']['RaceTable']['Races'][0]['Results']\n",
    "                    \n",
    "                    for res in results:\n",
    "                        all_results.append({\n",
    "                            'season_year': year,\n",
    "                            'race_round_number': int(round_num),\n",
    "                            'race_name': race_name,\n",
    "                            'race_date': race_date,\n",
    "                            'circuit_name': circuit_name,\n",
    "                            'driver_name': f\"{res['Driver']['givenName']} {res['Driver']['familyName']}\",\n",
    "                            'driver_nationality': res['Driver']['nationality'],\n",
    "                            'constructor_name': res['Constructor']['name'],\n",
    "                            'grid_position': int(res['grid']) if int(res['grid']) > 0 else 20,\n",
    "                            'final_position': int(res['position']),\n",
    "                            'points': float(res.get('points', 0)),\n",
    "                            'laps_completed': int(res.get('laps', 0)),\n",
    "                            'race_time': res.get('Time', {}).get('time', 'N/A'),\n",
    "                            'fastest_lap': res.get('FastestLap', {}).get('Time', {}).get('time', 'N/A'),\n",
    "                            'status': res['status']\n",
    "                        })\n",
    "                \n",
    "                print(f\"    ✓ Processed {race_name}\")\n",
    "                time.sleep(0.3)  # Small delay to be respectful\n",
    "\n",
    "        except requests.exceptions.RequestException as e:\n",
    "            print(f\"✗ Error processing year {year}: {e}\")\n",
    "            continue\n",
    "\n",
    "    if all_results:\n",
    "        df = pd.DataFrame(all_results)\n",
    "        df.to_csv('f1_results_2019_2025.csv', index=False)\n",
    "        print(f\"\\n✅ Data extraction complete! Saved {len(all_results)} records to 'f1_results_2022_2025.csv'\")\n",
    "        print(f\"Columns included: {list(df.columns)}\")\n",
    "    else:\n",
    "        print(\"\\n❌ No data was extracted. Please check the error messages.\")\n",
    "\n",
    "# Extract data for years after 2021 (2022-2025)\n",
    "extract_results_to_csv(2019, 2025)\n"
   ]
  },
  {
   "cell_type": "code",
   "execution_count": 3,
   "id": "ad0436a4",
   "metadata": {},
   "outputs": [],
   "source": [
    "import pandas as pd\n",
    "import matplotlib.pyplot as plt\n",
    "import seaborn as sns\n",
    "import numpy as np\n"
   ]
  },
  {
   "cell_type": "code",
   "execution_count": 4,
   "id": "86cd938b",
   "metadata": {},
   "outputs": [],
   "source": [
    "df = pd.read_csv('f1_results_2019_2025.csv')\n"
   ]
  },
  {
   "cell_type": "code",
   "execution_count": 5,
   "id": "25c556a7",
   "metadata": {},
   "outputs": [
    {
     "data": {
      "text/html": [
       "<div>\n",
       "<style scoped>\n",
       "    .dataframe tbody tr th:only-of-type {\n",
       "        vertical-align: middle;\n",
       "    }\n",
       "\n",
       "    .dataframe tbody tr th {\n",
       "        vertical-align: top;\n",
       "    }\n",
       "\n",
       "    .dataframe thead th {\n",
       "        text-align: right;\n",
       "    }\n",
       "</style>\n",
       "<table border=\"1\" class=\"dataframe\">\n",
       "  <thead>\n",
       "    <tr style=\"text-align: right;\">\n",
       "      <th></th>\n",
       "      <th>season_year</th>\n",
       "      <th>race_round_number</th>\n",
       "      <th>race_name</th>\n",
       "      <th>race_date</th>\n",
       "      <th>circuit_name</th>\n",
       "      <th>driver_name</th>\n",
       "      <th>driver_nationality</th>\n",
       "      <th>constructor_name</th>\n",
       "      <th>grid_position</th>\n",
       "      <th>final_position</th>\n",
       "      <th>points</th>\n",
       "      <th>laps_completed</th>\n",
       "      <th>race_time</th>\n",
       "      <th>fastest_lap</th>\n",
       "      <th>status</th>\n",
       "    </tr>\n",
       "  </thead>\n",
       "  <tbody>\n",
       "    <tr>\n",
       "      <th>0</th>\n",
       "      <td>2019</td>\n",
       "      <td>1</td>\n",
       "      <td>Australian Grand Prix</td>\n",
       "      <td>17-03-2019</td>\n",
       "      <td>Albert Park Grand Prix Circuit</td>\n",
       "      <td>Valtteri Bottas</td>\n",
       "      <td>Finnish</td>\n",
       "      <td>Mercedes</td>\n",
       "      <td>2</td>\n",
       "      <td>1</td>\n",
       "      <td>26.0</td>\n",
       "      <td>58</td>\n",
       "      <td>25:27.3</td>\n",
       "      <td>01:25.6</td>\n",
       "      <td>Finished</td>\n",
       "    </tr>\n",
       "    <tr>\n",
       "      <th>1</th>\n",
       "      <td>2019</td>\n",
       "      <td>1</td>\n",
       "      <td>Australian Grand Prix</td>\n",
       "      <td>17-03-2019</td>\n",
       "      <td>Albert Park Grand Prix Circuit</td>\n",
       "      <td>Lewis Hamilton</td>\n",
       "      <td>British</td>\n",
       "      <td>Mercedes</td>\n",
       "      <td>1</td>\n",
       "      <td>2</td>\n",
       "      <td>18.0</td>\n",
       "      <td>58</td>\n",
       "      <td>20.886</td>\n",
       "      <td>01:26.1</td>\n",
       "      <td>Finished</td>\n",
       "    </tr>\n",
       "    <tr>\n",
       "      <th>2</th>\n",
       "      <td>2019</td>\n",
       "      <td>1</td>\n",
       "      <td>Australian Grand Prix</td>\n",
       "      <td>17-03-2019</td>\n",
       "      <td>Albert Park Grand Prix Circuit</td>\n",
       "      <td>Max Verstappen</td>\n",
       "      <td>Dutch</td>\n",
       "      <td>Red Bull</td>\n",
       "      <td>4</td>\n",
       "      <td>3</td>\n",
       "      <td>15.0</td>\n",
       "      <td>58</td>\n",
       "      <td>22.52</td>\n",
       "      <td>01:26.3</td>\n",
       "      <td>Finished</td>\n",
       "    </tr>\n",
       "    <tr>\n",
       "      <th>3</th>\n",
       "      <td>2019</td>\n",
       "      <td>1</td>\n",
       "      <td>Australian Grand Prix</td>\n",
       "      <td>17-03-2019</td>\n",
       "      <td>Albert Park Grand Prix Circuit</td>\n",
       "      <td>Sebastian Vettel</td>\n",
       "      <td>German</td>\n",
       "      <td>Ferrari</td>\n",
       "      <td>3</td>\n",
       "      <td>4</td>\n",
       "      <td>12.0</td>\n",
       "      <td>58</td>\n",
       "      <td>57.109</td>\n",
       "      <td>01:28.0</td>\n",
       "      <td>Finished</td>\n",
       "    </tr>\n",
       "    <tr>\n",
       "      <th>4</th>\n",
       "      <td>2019</td>\n",
       "      <td>1</td>\n",
       "      <td>Australian Grand Prix</td>\n",
       "      <td>17-03-2019</td>\n",
       "      <td>Albert Park Grand Prix Circuit</td>\n",
       "      <td>Charles Leclerc</td>\n",
       "      <td>Monegasque</td>\n",
       "      <td>Ferrari</td>\n",
       "      <td>5</td>\n",
       "      <td>5</td>\n",
       "      <td>10.0</td>\n",
       "      <td>58</td>\n",
       "      <td>58.203</td>\n",
       "      <td>01:26.9</td>\n",
       "      <td>Finished</td>\n",
       "    </tr>\n",
       "  </tbody>\n",
       "</table>\n",
       "</div>"
      ],
      "text/plain": [
       "   season_year  race_round_number              race_name   race_date  \\\n",
       "0         2019                  1  Australian Grand Prix  17-03-2019   \n",
       "1         2019                  1  Australian Grand Prix  17-03-2019   \n",
       "2         2019                  1  Australian Grand Prix  17-03-2019   \n",
       "3         2019                  1  Australian Grand Prix  17-03-2019   \n",
       "4         2019                  1  Australian Grand Prix  17-03-2019   \n",
       "\n",
       "                     circuit_name       driver_name driver_nationality  \\\n",
       "0  Albert Park Grand Prix Circuit   Valtteri Bottas            Finnish   \n",
       "1  Albert Park Grand Prix Circuit    Lewis Hamilton            British   \n",
       "2  Albert Park Grand Prix Circuit    Max Verstappen              Dutch   \n",
       "3  Albert Park Grand Prix Circuit  Sebastian Vettel             German   \n",
       "4  Albert Park Grand Prix Circuit   Charles Leclerc         Monegasque   \n",
       "\n",
       "  constructor_name  grid_position  final_position  points  laps_completed  \\\n",
       "0         Mercedes              2               1    26.0              58   \n",
       "1         Mercedes              1               2    18.0              58   \n",
       "2         Red Bull              4               3    15.0              58   \n",
       "3          Ferrari              3               4    12.0              58   \n",
       "4          Ferrari              5               5    10.0              58   \n",
       "\n",
       "  race_time fastest_lap    status  \n",
       "0   25:27.3     01:25.6  Finished  \n",
       "1    20.886     01:26.1  Finished  \n",
       "2     22.52     01:26.3  Finished  \n",
       "3    57.109     01:28.0  Finished  \n",
       "4    58.203     01:26.9  Finished  "
      ]
     },
     "execution_count": 5,
     "metadata": {},
     "output_type": "execute_result"
    }
   ],
   "source": [
    "df.head()"
   ]
  },
  {
   "cell_type": "code",
   "execution_count": 6,
   "id": "1fb369d3",
   "metadata": {},
   "outputs": [
    {
     "data": {
      "text/html": [
       "<div>\n",
       "<style scoped>\n",
       "    .dataframe tbody tr th:only-of-type {\n",
       "        vertical-align: middle;\n",
       "    }\n",
       "\n",
       "    .dataframe tbody tr th {\n",
       "        vertical-align: top;\n",
       "    }\n",
       "\n",
       "    .dataframe thead th {\n",
       "        text-align: right;\n",
       "    }\n",
       "</style>\n",
       "<table border=\"1\" class=\"dataframe\">\n",
       "  <thead>\n",
       "    <tr style=\"text-align: right;\">\n",
       "      <th></th>\n",
       "      <th>season_year</th>\n",
       "      <th>race_round_number</th>\n",
       "      <th>grid_position</th>\n",
       "      <th>final_position</th>\n",
       "      <th>points</th>\n",
       "      <th>laps_completed</th>\n",
       "    </tr>\n",
       "  </thead>\n",
       "  <tbody>\n",
       "    <tr>\n",
       "      <th>count</th>\n",
       "      <td>2798.000000</td>\n",
       "      <td>2798.000000</td>\n",
       "      <td>2798.000000</td>\n",
       "      <td>2798.000000</td>\n",
       "      <td>2798.000000</td>\n",
       "      <td>2798.000000</td>\n",
       "    </tr>\n",
       "    <tr>\n",
       "      <th>mean</th>\n",
       "      <td>2021.905289</td>\n",
       "      <td>10.867763</td>\n",
       "      <td>10.522159</td>\n",
       "      <td>10.493209</td>\n",
       "      <td>5.075947</td>\n",
       "      <td>54.732309</td>\n",
       "    </tr>\n",
       "    <tr>\n",
       "      <th>std</th>\n",
       "      <td>1.896679</td>\n",
       "      <td>6.272990</td>\n",
       "      <td>5.790223</td>\n",
       "      <td>5.763773</td>\n",
       "      <td>7.225506</td>\n",
       "      <td>17.255701</td>\n",
       "    </tr>\n",
       "    <tr>\n",
       "      <th>min</th>\n",
       "      <td>2019.000000</td>\n",
       "      <td>1.000000</td>\n",
       "      <td>1.000000</td>\n",
       "      <td>1.000000</td>\n",
       "      <td>0.000000</td>\n",
       "      <td>0.000000</td>\n",
       "    </tr>\n",
       "    <tr>\n",
       "      <th>25%</th>\n",
       "      <td>2020.000000</td>\n",
       "      <td>6.000000</td>\n",
       "      <td>5.250000</td>\n",
       "      <td>5.250000</td>\n",
       "      <td>0.000000</td>\n",
       "      <td>51.000000</td>\n",
       "    </tr>\n",
       "    <tr>\n",
       "      <th>50%</th>\n",
       "      <td>2022.000000</td>\n",
       "      <td>11.000000</td>\n",
       "      <td>11.000000</td>\n",
       "      <td>10.000000</td>\n",
       "      <td>0.750000</td>\n",
       "      <td>57.000000</td>\n",
       "    </tr>\n",
       "    <tr>\n",
       "      <th>75%</th>\n",
       "      <td>2024.000000</td>\n",
       "      <td>16.000000</td>\n",
       "      <td>16.000000</td>\n",
       "      <td>15.000000</td>\n",
       "      <td>9.000000</td>\n",
       "      <td>66.000000</td>\n",
       "    </tr>\n",
       "    <tr>\n",
       "      <th>max</th>\n",
       "      <td>2025.000000</td>\n",
       "      <td>24.000000</td>\n",
       "      <td>20.000000</td>\n",
       "      <td>20.000000</td>\n",
       "      <td>26.000000</td>\n",
       "      <td>87.000000</td>\n",
       "    </tr>\n",
       "  </tbody>\n",
       "</table>\n",
       "</div>"
      ],
      "text/plain": [
       "       season_year  race_round_number  grid_position  final_position  \\\n",
       "count  2798.000000        2798.000000    2798.000000     2798.000000   \n",
       "mean   2021.905289          10.867763      10.522159       10.493209   \n",
       "std       1.896679           6.272990       5.790223        5.763773   \n",
       "min    2019.000000           1.000000       1.000000        1.000000   \n",
       "25%    2020.000000           6.000000       5.250000        5.250000   \n",
       "50%    2022.000000          11.000000      11.000000       10.000000   \n",
       "75%    2024.000000          16.000000      16.000000       15.000000   \n",
       "max    2025.000000          24.000000      20.000000       20.000000   \n",
       "\n",
       "            points  laps_completed  \n",
       "count  2798.000000     2798.000000  \n",
       "mean      5.075947       54.732309  \n",
       "std       7.225506       17.255701  \n",
       "min       0.000000        0.000000  \n",
       "25%       0.000000       51.000000  \n",
       "50%       0.750000       57.000000  \n",
       "75%       9.000000       66.000000  \n",
       "max      26.000000       87.000000  "
      ]
     },
     "execution_count": 6,
     "metadata": {},
     "output_type": "execute_result"
    }
   ],
   "source": [
    "df.describe()"
   ]
  },
  {
   "cell_type": "code",
   "execution_count": 7,
   "id": "ff3d22db",
   "metadata": {},
   "outputs": [
    {
     "data": {
      "text/plain": [
       "season_year             0\n",
       "race_round_number       0\n",
       "race_name               0\n",
       "race_date               0\n",
       "circuit_name            0\n",
       "driver_name             0\n",
       "driver_nationality      0\n",
       "constructor_name        0\n",
       "grid_position           0\n",
       "final_position          0\n",
       "points                  0\n",
       "laps_completed          0\n",
       "race_time             891\n",
       "fastest_lap           112\n",
       "status                  0\n",
       "dtype: int64"
      ]
     },
     "execution_count": 7,
     "metadata": {},
     "output_type": "execute_result"
    }
   ],
   "source": [
    "df.isnull().sum()"
   ]
  },
  {
   "cell_type": "code",
   "execution_count": 8,
   "id": "be5336f6",
   "metadata": {},
   "outputs": [
    {
     "data": {
      "text/plain": [
       "Index(['season_year', 'race_round_number', 'race_name', 'race_date',\n",
       "       'circuit_name', 'driver_name', 'driver_nationality', 'constructor_name',\n",
       "       'grid_position', 'final_position', 'points', 'laps_completed',\n",
       "       'race_time', 'fastest_lap', 'status'],\n",
       "      dtype='object')"
      ]
     },
     "execution_count": 8,
     "metadata": {},
     "output_type": "execute_result"
    }
   ],
   "source": [
    "df.columns"
   ]
  },
  {
   "cell_type": "code",
   "execution_count": 9,
   "id": "d83145fc",
   "metadata": {},
   "outputs": [
    {
     "data": {
      "text/plain": [
       "(2798, 15)"
      ]
     },
     "execution_count": 9,
     "metadata": {},
     "output_type": "execute_result"
    }
   ],
   "source": [
    "df.shape"
   ]
  },
  {
   "cell_type": "code",
   "execution_count": 10,
   "id": "00608636",
   "metadata": {},
   "outputs": [
    {
     "data": {
      "text/plain": [
       "7"
      ]
     },
     "execution_count": 10,
     "metadata": {},
     "output_type": "execute_result"
    }
   ],
   "source": [
    "df['season_year'].nunique()"
   ]
  },
  {
   "cell_type": "code",
   "execution_count": 11,
   "id": "229ae894",
   "metadata": {},
   "outputs": [
    {
     "name": "stdout",
     "output_type": "stream",
     "text": [
      "The number of unique drivers is: 39\n",
      "The number of unique constructors is: 15\n",
      "The number of unique circuits is: 31\n"
     ]
    }
   ],
   "source": [
    "\n",
    "print(\"The number of unique drivers is:\", df['driver_name'].nunique())\n",
    "print(\"The number of unique constructors is:\", df['constructor_name'].nunique())\n",
    "print(\"The number of unique circuits is:\", df['circuit_name'].nunique())\n"
   ]
  },
  {
   "cell_type": "code",
   "execution_count": 12,
   "id": "8f1fccea",
   "metadata": {},
   "outputs": [
    {
     "name": "stdout",
     "output_type": "stream",
     "text": [
      "Races per season:\n"
     ]
    },
    {
     "data": {
      "text/plain": [
       "season_year\n",
       "2019    21\n",
       "2020    17\n",
       "2021    22\n",
       "2022    22\n",
       "2023    22\n",
       "2024    24\n",
       "2025    12\n",
       "Name: race_round_number, dtype: int64"
      ]
     },
     "execution_count": 12,
     "metadata": {},
     "output_type": "execute_result"
    }
   ],
   "source": [
    "print(\"Races per season:\")\n",
    "df.groupby('season_year')['race_round_number'].nunique()"
   ]
  },
  {
   "cell_type": "markdown",
   "id": "8e352081",
   "metadata": {},
   "source": [
    "## Winner Analysis"
   ]
  },
  {
   "cell_type": "code",
   "execution_count": 13,
   "id": "573b5888",
   "metadata": {},
   "outputs": [
    {
     "data": {
      "text/plain": [
       "driver_name\n",
       "Max Verstappen      60\n",
       "Lewis Hamilton      32\n",
       "Charles Leclerc      8\n",
       "Lando Norris         8\n",
       "Valtteri Bottas      7\n",
       "Oscar Piastri        7\n",
       "Sergio Pérez         6\n",
       "Carlos Sainz         4\n",
       "George Russell       4\n",
       "Sebastian Vettel     1\n",
       "Daniel Ricciardo     1\n",
       "Pierre Gasly         1\n",
       "Esteban Ocon         1\n",
       "Name: count, dtype: int64"
      ]
     },
     "execution_count": 13,
     "metadata": {},
     "output_type": "execute_result"
    }
   ],
   "source": [
    "# Most successful drivers (race wins)\n",
    "race_winners = df[df['final_position'] == 1]['driver_name'].value_counts()\n",
    "race_winners"
   ]
  },
  {
   "cell_type": "code",
   "execution_count": 14,
   "id": "8c880f32",
   "metadata": {},
   "outputs": [
    {
     "name": "stdout",
     "output_type": "stream",
     "text": [
      "\n",
      "Top Constructor Wins:\n",
      "constructor_name\n",
      "Red Bull          65\n",
      "Mercedes          43\n",
      "McLaren           16\n",
      "Ferrari           13\n",
      "AlphaTauri         1\n",
      "Racing Point       1\n",
      "Alpine F1 Team     1\n",
      "Name: count, dtype: int64\n"
     ]
    }
   ],
   "source": [
    "constructor_wins = df[df['final_position'] == 1]['constructor_name'].value_counts()\n",
    "print(f\"\\nTop Constructor Wins:\")\n",
    "print(constructor_wins.head(8))"
   ]
  },
  {
   "cell_type": "markdown",
   "id": "a3b04ae4",
   "metadata": {},
   "source": [
    "## Most Successful Qualifying"
   ]
  },
  {
   "cell_type": "code",
   "execution_count": 15,
   "id": "afdfa9dc",
   "metadata": {},
   "outputs": [
    {
     "name": "stdout",
     "output_type": "stream",
     "text": [
      "Wins from each grid position:\n"
     ]
    },
    {
     "data": {
      "text/plain": [
       "grid_position\n",
       "1     72\n",
       "2     32\n",
       "3     16\n",
       "4      6\n",
       "5      2\n",
       "6      4\n",
       "7      1\n",
       "8      1\n",
       "9      1\n",
       "10     3\n",
       "14     1\n",
       "17     1\n",
       "Name: count, dtype: int64"
      ]
     },
     "execution_count": 15,
     "metadata": {},
     "output_type": "execute_result"
    }
   ],
   "source": [
    "print(\"Wins from each grid position:\")\n",
    "df[df['final_position'] == 1]['grid_position'].value_counts().sort_index()"
   ]
  },
  {
   "cell_type": "code",
   "execution_count": 16,
   "id": "b3d27de5",
   "metadata": {},
   "outputs": [
    {
     "name": "stdout",
     "output_type": "stream",
     "text": [
      "Pole Position Results:\n"
     ]
    },
    {
     "data": {
      "text/plain": [
       "final_position\n",
       "1     72\n",
       "2     24\n",
       "3     16\n",
       "4      8\n",
       "5      2\n",
       "6      1\n",
       "7      2\n",
       "8      1\n",
       "9      2\n",
       "15     1\n",
       "18     1\n",
       "19     5\n",
       "20     5\n",
       "Name: count, dtype: int64"
      ]
     },
     "execution_count": 16,
     "metadata": {},
     "output_type": "execute_result"
    }
   ],
   "source": [
    "print(\"Pole Position Results:\")\n",
    "df[df['grid_position'] == 1]['final_position'].value_counts().sort_index()"
   ]
  },
  {
   "cell_type": "code",
   "execution_count": 17,
   "id": "0435a7e1",
   "metadata": {},
   "outputs": [
    {
     "name": "stdout",
     "output_type": "stream",
     "text": [
      "\n",
      "Average finish position by starting grid:\n"
     ]
    },
    {
     "data": {
      "text/plain": [
       "grid_position\n",
       "1      3.457143\n",
       "2      4.100000\n",
       "3      5.285714\n",
       "4      5.814286\n",
       "5      7.535714\n",
       "6      7.735714\n",
       "7      8.640288\n",
       "8      9.892086\n",
       "9     10.014286\n",
       "10    11.417266\n",
       "11    11.280576\n",
       "12    11.757143\n",
       "13    12.731884\n",
       "14    13.553957\n",
       "15    13.446043\n",
       "16    14.187050\n",
       "17    14.392857\n",
       "18    15.116788\n",
       "19    14.760870\n",
       "20    14.644737\n",
       "Name: final_position, dtype: float64"
      ]
     },
     "execution_count": 17,
     "metadata": {},
     "output_type": "execute_result"
    }
   ],
   "source": [
    "print(f\"\\nAverage finish position by starting grid:\")\n",
    "df.groupby('grid_position')['final_position'].mean()"
   ]
  },
  {
   "cell_type": "code",
   "execution_count": 18,
   "id": "24c0bc3e",
   "metadata": {},
   "outputs": [
    {
     "data": {
      "text/plain": [
       "status\n",
       "Finished            1650\n",
       "+1 Lap               427\n",
       "Lapped               252\n",
       "Retired              121\n",
       "+2 Laps               68\n",
       "Collision             58\n",
       "Accident              28\n",
       "Collision damage      24\n",
       "Engine                18\n",
       "Power Unit            15\n",
       "Brakes                13\n",
       "Gearbox               12\n",
       "Disqualified          11\n",
       "+3 Laps               10\n",
       "Suspension             8\n",
       "Did not start          8\n",
       "Hydraulics             6\n",
       "Withdrew               5\n",
       "Power loss             5\n",
       "Water pressure         4\n",
       "Spun off               4\n",
       "Fuel pressure          3\n",
       "Oil leak               3\n",
       "Wheel                  3\n",
       "Puncture               3\n",
       "Electronics            3\n",
       "Overheating            3\n",
       "Undertray              3\n",
       "Exhaust                2\n",
       "Damage                 2\n",
       "Transmission           2\n",
       "Mechanical             2\n",
       "Turbo                  2\n",
       "Illness                2\n",
       "Water leak             2\n",
       "Out of fuel            1\n",
       "Wheel nut              1\n",
       "Debris                 1\n",
       "Radiator               1\n",
       "+5 Laps                1\n",
       "Electrical             1\n",
       "Driveshaft             1\n",
       "Rear wing              1\n",
       "Front wing             1\n",
       "Fuel leak              1\n",
       "Water pump             1\n",
       "Cooling system         1\n",
       "Fuel pump              1\n",
       "Vibrations             1\n",
       "Differential           1\n",
       "+6 Laps                1\n",
       "Name: count, dtype: int64"
      ]
     },
     "execution_count": 18,
     "metadata": {},
     "output_type": "execute_result"
    }
   ],
   "source": [
    "df['status'].value_counts()"
   ]
  },
  {
   "cell_type": "markdown",
   "id": "35f10290",
   "metadata": {},
   "source": [
    "## Fastest Lap of Each  CIRCUIT"
   ]
  },
  {
   "cell_type": "code",
   "execution_count": 19,
   "id": "38249aac",
   "metadata": {},
   "outputs": [
    {
     "name": "stdout",
     "output_type": "stream",
     "text": [
      "🏎️  FASTEST LAP RECORDS BY CIRCUIT (2019-2025)\n",
      "======================================================================\n",
      "🏁 Albert Park Grand Prix Circuit\n",
      "   ⏱️  01:19.8\n",
      "   🏆 Charles Leclerc (Ferrari)\n",
      "   📅 2024 Australian Grand Prix\n",
      "\n",
      "🏁 Autodromo Enzo e Dino Ferrari\n",
      "   ⏱️  01:15.5\n",
      "   🏆 Lewis Hamilton (Mercedes)\n",
      "   📅 2020 Emilia Romagna Grand Prix\n",
      "\n",
      "🏁 Autodromo Internazionale del Mugello\n",
      "   ⏱️  01:18.8\n",
      "   🏆 Lewis Hamilton (Mercedes)\n",
      "   📅 2020 Tuscan Grand Prix\n",
      "\n",
      "🏁 Autodromo Nazionale di Monza\n",
      "   ⏱️  01:21.4\n",
      "   🏆 Lando Norris (McLaren)\n",
      "   📅 2024 Italian Grand Prix\n",
      "\n",
      "🏁 Autódromo Hermanos Rodríguez\n",
      "   ⏱️  01:17.8\n",
      "   🏆 Valtteri Bottas (Mercedes)\n",
      "   📅 2021 Mexico City Grand Prix\n",
      "\n",
      "🏁 Autódromo Internacional do Algarve\n",
      "   ⏱️  01:18.7\n",
      "   🏆 Lewis Hamilton (Mercedes)\n",
      "   📅 2020 Portuguese Grand Prix\n",
      "\n",
      "🏁 Autódromo José Carlos Pace\n",
      "   ⏱️  01:10.7\n",
      "   🏆 Valtteri Bottas (Mercedes)\n",
      "   📅 2019 Brazilian Grand Prix\n",
      "\n",
      "🏁 Bahrain International Circuit\n",
      "   ⏱️  55.404\n",
      "   🏆 George Russell (Mercedes)\n",
      "   📅 2020 Sakhir Grand Prix\n",
      "\n",
      "🏁 Baku City Circuit\n",
      "   ⏱️  01:43.0\n",
      "   🏆 Charles Leclerc (Ferrari)\n",
      "   📅 2019 Azerbaijan Grand Prix\n",
      "\n",
      "🏁 Circuit Gilles Villeneuve\n",
      "   ⏱️  01:13.1\n",
      "   🏆 Valtteri Bottas (Mercedes)\n",
      "   📅 2019 Canadian Grand Prix\n",
      "\n",
      "🏁 Circuit Park Zandvoort\n",
      "   ⏱️  01:11.1\n",
      "   🏆 Lewis Hamilton (Mercedes)\n",
      "   📅 2021 Dutch Grand Prix\n",
      "\n",
      "🏁 Circuit Paul Ricard\n",
      "   ⏱️  01:32.7\n",
      "   🏆 Sebastian Vettel (Ferrari)\n",
      "   📅 2019 French Grand Prix\n",
      "\n",
      "🏁 Circuit de Barcelona-Catalunya\n",
      "   ⏱️  01:15.7\n",
      "   🏆 Oscar Piastri (McLaren)\n",
      "   📅 2025 Spanish Grand Prix\n",
      "\n",
      "🏁 Circuit de Monaco\n",
      "   ⏱️  01:12.9\n",
      "   🏆 Lewis Hamilton (Mercedes)\n",
      "   📅 2021 Monaco Grand Prix\n",
      "\n",
      "🏁 Circuit de Spa-Francorchamps\n",
      "   ⏱️  01:44.7\n",
      "   🏆 Sergio Pérez (Red Bull)\n",
      "   📅 2024 Belgian Grand Prix\n",
      "\n",
      "🏁 Circuit of the Americas\n",
      "   ⏱️  01:36.2\n",
      "   🏆 Charles Leclerc (Ferrari)\n",
      "   📅 2019 United States Grand Prix\n",
      "\n",
      "🏁 Hockenheimring\n",
      "   ⏱️  01:16.6\n",
      "   🏆 Max Verstappen (Red Bull)\n",
      "   📅 2019 German Grand Prix\n",
      "\n",
      "🏁 Hungaroring\n",
      "   ⏱️  01:16.6\n",
      "   🏆 Lewis Hamilton (Mercedes)\n",
      "   📅 2020 Hungarian Grand Prix\n",
      "\n",
      "🏁 Istanbul Park\n",
      "   ⏱️  01:30.4\n",
      "   🏆 Valtteri Bottas (Mercedes)\n",
      "   📅 2021 Turkish Grand Prix\n",
      "\n",
      "🏁 Jeddah Corniche Circuit\n",
      "   ⏱️  01:30.7\n",
      "   🏆 Lewis Hamilton (Mercedes)\n",
      "   📅 2021 Saudi Arabian Grand Prix\n",
      "\n",
      "🏁 Las Vegas Strip Street Circuit\n",
      "   ⏱️  01:34.9\n",
      "   🏆 Lando Norris (McLaren)\n",
      "   📅 2024 Las Vegas Grand Prix\n",
      "\n",
      "🏁 Losail International Circuit\n",
      "   ⏱️  01:22.4\n",
      "   🏆 Lando Norris (McLaren)\n",
      "   📅 2024 Qatar Grand Prix\n",
      "\n",
      "🏁 Marina Bay Street Circuit\n",
      "   ⏱️  01:34.5\n",
      "   🏆 Daniel Ricciardo (RB F1 Team)\n",
      "   📅 2024 Singapore Grand Prix\n",
      "\n",
      "🏁 Miami International Autodrome\n",
      "   ⏱️  01:29.7\n",
      "   🏆 Max Verstappen (Red Bull)\n",
      "   📅 2023 Miami Grand Prix\n",
      "\n",
      "🏁 Nürburgring\n",
      "   ⏱️  01:28.1\n",
      "   🏆 Lewis Hamilton (Mercedes)\n",
      "   📅 2020 Eifel Grand Prix\n",
      "\n",
      "🏁 Red Bull Ring\n",
      "   ⏱️  01:05.6\n",
      "   🏆 Carlos Sainz (McLaren)\n",
      "   📅 2020 Styrian Grand Prix\n",
      "\n",
      "🏁 Shanghai International Circuit\n",
      "   ⏱️  01:34.7\n",
      "   🏆 Pierre Gasly (Red Bull)\n",
      "   📅 2019 Chinese Grand Prix\n",
      "\n",
      "🏁 Silverstone Circuit\n",
      "   ⏱️  01:27.1\n",
      "   🏆 Max Verstappen (Red Bull)\n",
      "   📅 2020 British Grand Prix\n",
      "\n",
      "🏁 Sochi Autodrom\n",
      "   ⏱️  01:35.8\n",
      "   🏆 Lewis Hamilton (Mercedes)\n",
      "   📅 2019 Russian Grand Prix\n",
      "\n",
      "🏁 Suzuka Circuit\n",
      "   ⏱️  01:31.0\n",
      "   🏆 Lewis Hamilton (Mercedes)\n",
      "   📅 2019 Japanese Grand Prix\n",
      "\n",
      "🏁 Yas Marina Circuit\n",
      "   ⏱️  01:25.6\n",
      "   🏆 Kevin Magnussen (Haas F1 Team)\n",
      "   📅 2024 Abu Dhabi Grand Prix\n",
      "\n"
     ]
    }
   ],
   "source": [
    "def get_fastest_laps_by_circuit(csv_file):\n",
    "    \"\"\"\n",
    "    Extract the fastest lap time for each circuit from F1 race data\n",
    "    \"\"\"\n",
    "    # Load data\n",
    "    df1 = pd.read_csv(csv_file)\n",
    "    \n",
    "    # Convert lap times to seconds for proper comparison\n",
    "    def parse_laptime(time_str):\n",
    "        if pd.isna(time_str) or time_str == 'N/A':\n",
    "            return np.nan\n",
    "        try:\n",
    "            if ':' in str(time_str):\n",
    "                min_sec = str(time_str).split(':')\n",
    "                return int(min_sec[0]) * 60 + float(min_sec[1])\n",
    "            return float(time_str)\n",
    "        except:\n",
    "            return np.nan\n",
    "    \n",
    "    df1['lap_seconds'] = df1['fastest_lap'].apply(parse_laptime)\n",
    "    df_valid = df1.dropna(subset=['lap_seconds'])\n",
    "    \n",
    "    # Get fastest lap per circuit\n",
    "    fastest_by_circuit = df_valid.loc[df_valid.groupby('circuit_name')['lap_seconds'].idxmin()]\n",
    "    \n",
    "    # Create results\n",
    "    results = fastest_by_circuit.sort_values('circuit_name')[\n",
    "        ['circuit_name', 'fastest_lap', 'driver_name', 'constructor_name', 'season_year', 'race_name']\n",
    "    ].copy()\n",
    "    \n",
    "    return results\n",
    "\n",
    "# Execute the function\n",
    "fastest_laps = get_fastest_laps_by_circuit('f1_results_2019_2025.csv')\n",
    "\n",
    "# Display results\n",
    "print(\"🏎️  FASTEST LAP RECORDS BY CIRCUIT (2019-2025)\")\n",
    "print(\"=\" * 70)\n",
    "\n",
    "for _, record in fastest_laps.iterrows():\n",
    "    print(f\"🏁 {record['circuit_name']}\")\n",
    "    print(f\"   ⏱️  {record['fastest_lap']}\")\n",
    "    print(f\"   🏆 {record['driver_name']} ({record['constructor_name']})\")\n",
    "    print(f\"   📅 {record['season_year']} {record['race_name']}\")\n",
    "    print()\n"
   ]
  },
  {
   "cell_type": "code",
   "execution_count": 20,
   "id": "71af21b8",
   "metadata": {},
   "outputs": [
    {
     "data": {
      "text/html": [
       "<div>\n",
       "<style scoped>\n",
       "    .dataframe tbody tr th:only-of-type {\n",
       "        vertical-align: middle;\n",
       "    }\n",
       "\n",
       "    .dataframe tbody tr th {\n",
       "        vertical-align: top;\n",
       "    }\n",
       "\n",
       "    .dataframe thead th {\n",
       "        text-align: right;\n",
       "    }\n",
       "</style>\n",
       "<table border=\"1\" class=\"dataframe\">\n",
       "  <thead>\n",
       "    <tr style=\"text-align: right;\">\n",
       "      <th></th>\n",
       "      <th>season_year</th>\n",
       "      <th>race_round_number</th>\n",
       "      <th>race_name</th>\n",
       "      <th>race_date</th>\n",
       "      <th>circuit_name</th>\n",
       "      <th>driver_name</th>\n",
       "      <th>driver_nationality</th>\n",
       "      <th>constructor_name</th>\n",
       "      <th>grid_position</th>\n",
       "      <th>final_position</th>\n",
       "      <th>points</th>\n",
       "      <th>laps_completed</th>\n",
       "      <th>race_time</th>\n",
       "      <th>fastest_lap</th>\n",
       "      <th>status</th>\n",
       "    </tr>\n",
       "  </thead>\n",
       "  <tbody>\n",
       "    <tr>\n",
       "      <th>0</th>\n",
       "      <td>2019</td>\n",
       "      <td>1</td>\n",
       "      <td>Australian Grand Prix</td>\n",
       "      <td>17-03-2019</td>\n",
       "      <td>Albert Park Grand Prix Circuit</td>\n",
       "      <td>Valtteri Bottas</td>\n",
       "      <td>Finnish</td>\n",
       "      <td>Mercedes</td>\n",
       "      <td>2</td>\n",
       "      <td>1</td>\n",
       "      <td>26.0</td>\n",
       "      <td>58</td>\n",
       "      <td>25:27.3</td>\n",
       "      <td>01:25.6</td>\n",
       "      <td>Finished</td>\n",
       "    </tr>\n",
       "    <tr>\n",
       "      <th>1</th>\n",
       "      <td>2019</td>\n",
       "      <td>1</td>\n",
       "      <td>Australian Grand Prix</td>\n",
       "      <td>17-03-2019</td>\n",
       "      <td>Albert Park Grand Prix Circuit</td>\n",
       "      <td>Lewis Hamilton</td>\n",
       "      <td>British</td>\n",
       "      <td>Mercedes</td>\n",
       "      <td>1</td>\n",
       "      <td>2</td>\n",
       "      <td>18.0</td>\n",
       "      <td>58</td>\n",
       "      <td>20.886</td>\n",
       "      <td>01:26.1</td>\n",
       "      <td>Finished</td>\n",
       "    </tr>\n",
       "    <tr>\n",
       "      <th>2</th>\n",
       "      <td>2019</td>\n",
       "      <td>1</td>\n",
       "      <td>Australian Grand Prix</td>\n",
       "      <td>17-03-2019</td>\n",
       "      <td>Albert Park Grand Prix Circuit</td>\n",
       "      <td>Max Verstappen</td>\n",
       "      <td>Dutch</td>\n",
       "      <td>Red Bull</td>\n",
       "      <td>4</td>\n",
       "      <td>3</td>\n",
       "      <td>15.0</td>\n",
       "      <td>58</td>\n",
       "      <td>22.52</td>\n",
       "      <td>01:26.3</td>\n",
       "      <td>Finished</td>\n",
       "    </tr>\n",
       "    <tr>\n",
       "      <th>3</th>\n",
       "      <td>2019</td>\n",
       "      <td>1</td>\n",
       "      <td>Australian Grand Prix</td>\n",
       "      <td>17-03-2019</td>\n",
       "      <td>Albert Park Grand Prix Circuit</td>\n",
       "      <td>Sebastian Vettel</td>\n",
       "      <td>German</td>\n",
       "      <td>Ferrari</td>\n",
       "      <td>3</td>\n",
       "      <td>4</td>\n",
       "      <td>12.0</td>\n",
       "      <td>58</td>\n",
       "      <td>57.109</td>\n",
       "      <td>01:28.0</td>\n",
       "      <td>Finished</td>\n",
       "    </tr>\n",
       "    <tr>\n",
       "      <th>4</th>\n",
       "      <td>2019</td>\n",
       "      <td>1</td>\n",
       "      <td>Australian Grand Prix</td>\n",
       "      <td>17-03-2019</td>\n",
       "      <td>Albert Park Grand Prix Circuit</td>\n",
       "      <td>Charles Leclerc</td>\n",
       "      <td>Monegasque</td>\n",
       "      <td>Ferrari</td>\n",
       "      <td>5</td>\n",
       "      <td>5</td>\n",
       "      <td>10.0</td>\n",
       "      <td>58</td>\n",
       "      <td>58.203</td>\n",
       "      <td>01:26.9</td>\n",
       "      <td>Finished</td>\n",
       "    </tr>\n",
       "  </tbody>\n",
       "</table>\n",
       "</div>"
      ],
      "text/plain": [
       "   season_year  race_round_number              race_name   race_date  \\\n",
       "0         2019                  1  Australian Grand Prix  17-03-2019   \n",
       "1         2019                  1  Australian Grand Prix  17-03-2019   \n",
       "2         2019                  1  Australian Grand Prix  17-03-2019   \n",
       "3         2019                  1  Australian Grand Prix  17-03-2019   \n",
       "4         2019                  1  Australian Grand Prix  17-03-2019   \n",
       "\n",
       "                     circuit_name       driver_name driver_nationality  \\\n",
       "0  Albert Park Grand Prix Circuit   Valtteri Bottas            Finnish   \n",
       "1  Albert Park Grand Prix Circuit    Lewis Hamilton            British   \n",
       "2  Albert Park Grand Prix Circuit    Max Verstappen              Dutch   \n",
       "3  Albert Park Grand Prix Circuit  Sebastian Vettel             German   \n",
       "4  Albert Park Grand Prix Circuit   Charles Leclerc         Monegasque   \n",
       "\n",
       "  constructor_name  grid_position  final_position  points  laps_completed  \\\n",
       "0         Mercedes              2               1    26.0              58   \n",
       "1         Mercedes              1               2    18.0              58   \n",
       "2         Red Bull              4               3    15.0              58   \n",
       "3          Ferrari              3               4    12.0              58   \n",
       "4          Ferrari              5               5    10.0              58   \n",
       "\n",
       "  race_time fastest_lap    status  \n",
       "0   25:27.3     01:25.6  Finished  \n",
       "1    20.886     01:26.1  Finished  \n",
       "2     22.52     01:26.3  Finished  \n",
       "3    57.109     01:28.0  Finished  \n",
       "4    58.203     01:26.9  Finished  "
      ]
     },
     "execution_count": 20,
     "metadata": {},
     "output_type": "execute_result"
    }
   ],
   "source": [
    "df.head()"
   ]
  },
  {
   "cell_type": "code",
   "execution_count": 21,
   "id": "e26d8a70",
   "metadata": {},
   "outputs": [
    {
     "name": "stdout",
     "output_type": "stream",
     "text": [
      "<class 'pandas.core.frame.DataFrame'>\n",
      "RangeIndex: 2798 entries, 0 to 2797\n",
      "Data columns (total 15 columns):\n",
      " #   Column              Non-Null Count  Dtype  \n",
      "---  ------              --------------  -----  \n",
      " 0   season_year         2798 non-null   int64  \n",
      " 1   race_round_number   2798 non-null   int64  \n",
      " 2   race_name           2798 non-null   object \n",
      " 3   race_date           2798 non-null   object \n",
      " 4   circuit_name        2798 non-null   object \n",
      " 5   driver_name         2798 non-null   object \n",
      " 6   driver_nationality  2798 non-null   object \n",
      " 7   constructor_name    2798 non-null   object \n",
      " 8   grid_position       2798 non-null   int64  \n",
      " 9   final_position      2798 non-null   int64  \n",
      " 10  points              2798 non-null   float64\n",
      " 11  laps_completed      2798 non-null   int64  \n",
      " 12  race_time           1907 non-null   object \n",
      " 13  fastest_lap         2686 non-null   object \n",
      " 14  status              2798 non-null   object \n",
      "dtypes: float64(1), int64(5), object(9)\n",
      "memory usage: 328.0+ KB\n"
     ]
    }
   ],
   "source": [
    "df.info()"
   ]
  },
  {
   "cell_type": "markdown",
   "id": "b998b40d",
   "metadata": {},
   "source": [
    "## Visualisation"
   ]
  },
  {
   "cell_type": "code",
   "execution_count": 22,
   "id": "363f47ce",
   "metadata": {},
   "outputs": [
    {
     "data": {
      "text/plain": [
       "driver_name\n",
       "Max Verstappen      60\n",
       "Lewis Hamilton      32\n",
       "Charles Leclerc      8\n",
       "Lando Norris         8\n",
       "Valtteri Bottas      7\n",
       "Oscar Piastri        7\n",
       "Sergio Pérez         6\n",
       "Carlos Sainz         4\n",
       "George Russell       4\n",
       "Sebastian Vettel     1\n",
       "Daniel Ricciardo     1\n",
       "Pierre Gasly         1\n",
       "Esteban Ocon         1\n",
       "Name: count, dtype: int64"
      ]
     },
     "execution_count": 22,
     "metadata": {},
     "output_type": "execute_result"
    }
   ],
   "source": [
    "race_winners"
   ]
  },
  {
   "cell_type": "code",
   "execution_count": 23,
   "id": "9a9410ba",
   "metadata": {},
   "outputs": [
    {
     "data": {
      "text/plain": [
       "<Figure size 1200x600 with 0 Axes>"
      ]
     },
     "execution_count": 23,
     "metadata": {},
     "output_type": "execute_result"
    },
    {
     "data": {
      "text/plain": [
       "<Figure size 1200x600 with 0 Axes>"
      ]
     },
     "metadata": {},
     "output_type": "display_data"
    }
   ],
   "source": [
    "plt.figure(figsize=(12, 6))"
   ]
  },
  {
   "cell_type": "code",
   "execution_count": 26,
   "id": "eec459d1",
   "metadata": {},
   "outputs": [
    {
     "data": {
      "image/png": "[encoded data removed]",
      "text/plain": [
       "<Figure size 640x480 with 1 Axes>"
      ]
     },
     "metadata": {},
     "output_type": "display_data"
    }
   ],
   "source": [
    "sns.barplot(x=race_winners.index, y=race_winners.values, color='b')\n",
    "plt.xticks(rotation=45, ha='right')\n",
    "plt.title('Number of Race Wins by Driver (2019-2025)')\n",
    "plt.xlabel('Driver')\n",
    "plt.ylabel('Number of Wins')\n",
    "plt.tight_layout()"
   ]
  },
  {
   "cell_type": "code",
   "execution_count": null,
   "id": "edeb6c49",
   "metadata": {},
   "outputs": [],
   "source": []
  }
 ],
 "metadata": {
  "kernelspec": {
   "display_name": "Python 3",
   "language": "python",
   "name": "python3"
  },
  "language_info": {
   "codemirror_mode": {
    "name": "ipython",
    "version": 3
   },
   "file_extension": ".py",
   "mimetype": "text/x-python",
   "name": "python",
   "nbconvert_exporter": "python",
   "pygments_lexer": "ipython3",
   "version": "3.13.0"
  }
 },
 "nbformat": 4,
 "nbformat_minor": 5
}
